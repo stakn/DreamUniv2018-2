{
 "cells": [
  {
   "cell_type": "markdown",
   "metadata": {},
   "source": [
    "## 제엄문"
   ]
  },
  {
   "cell_type": "markdown",
   "metadata": {},
   "source": [
    "### if문"
   ]
  },
  {
   "cell_type": "code",
   "execution_count": 4,
   "metadata": {},
   "outputs": [],
   "source": [
    "# 관계 연산자\n",
    "x = 3\n",
    "y = 4"
   ]
  },
  {
   "cell_type": "code",
   "execution_count": 5,
   "metadata": {},
   "outputs": [
    {
     "data": {
      "text/plain": [
       "False"
      ]
     },
     "execution_count": 5,
     "metadata": {},
     "output_type": "execute_result"
    }
   ],
   "source": [
    "x == y # x 랑 y 랑 같으냐?"
   ]
  },
  {
   "cell_type": "code",
   "execution_count": 6,
   "metadata": {},
   "outputs": [
    {
     "data": {
      "text/plain": [
       "True"
      ]
     },
     "execution_count": 6,
     "metadata": {},
     "output_type": "execute_result"
    }
   ],
   "source": [
    "x != y # x랑 y랑 다르냐?"
   ]
  },
  {
   "cell_type": "code",
   "execution_count": 7,
   "metadata": {},
   "outputs": [
    {
     "data": {
      "text/plain": [
       "False"
      ]
     },
     "execution_count": 7,
     "metadata": {},
     "output_type": "execute_result"
    }
   ],
   "source": [
    "x > y # x 가 y 보다 크냐?"
   ]
  },
  {
   "cell_type": "code",
   "execution_count": 8,
   "metadata": {},
   "outputs": [
    {
     "data": {
      "text/plain": [
       "True"
      ]
     },
     "execution_count": 8,
     "metadata": {},
     "output_type": "execute_result"
    }
   ],
   "source": [
    "x < y # x rk y 보다 작나?"
   ]
  },
  {
   "cell_type": "code",
   "execution_count": 10,
   "metadata": {},
   "outputs": [
    {
     "data": {
      "text/plain": [
       "False"
      ]
     },
     "execution_count": 10,
     "metadata": {},
     "output_type": "execute_result"
    }
   ],
   "source": [
    "x >= y # x 가 y 보다 크거나 같나?"
   ]
  },
  {
   "cell_type": "code",
   "execution_count": 11,
   "metadata": {},
   "outputs": [
    {
     "data": {
      "text/plain": [
       "True"
      ]
     },
     "execution_count": 11,
     "metadata": {},
     "output_type": "execute_result"
    }
   ],
   "source": [
    "x <= y # x 가 y 보다 작거나 같나?"
   ]
  },
  {
   "cell_type": "code",
   "execution_count": 13,
   "metadata": {},
   "outputs": [
    {
     "name": "stdout",
     "output_type": "stream",
     "text": [
      "합격입니다\n"
     ]
    }
   ],
   "source": [
    "score = 90\n",
    "if score >= 60:\n",
    "    print(\"합격입니다\")\n",
    "else:\n",
    "    print(\"불합격입니다\")"
   ]
  },
  {
   "cell_type": "code",
   "execution_count": 17,
   "metadata": {},
   "outputs": [
    {
     "name": "stdout",
     "output_type": "stream",
     "text": [
      "이영화를 보실수 있습니다\n"
     ]
    }
   ],
   "source": [
    "# 영화관 입장 판독기\n",
    "나이 = int(input(\"당신의 나이는 어떻게됩니까?\"))\n",
    "if 나이 >= 18:\n",
    "    print(\"이 영화를 보실 수 있습니다\")\n",
    "else:\n",
    "    print(\"이 영화를 보실 수 없습니다\")"
   ]
  },
  {
   "cell_type": "code",
   "execution_count": 22,
   "metadata": {},
   "outputs": [
    {
     "name": "stdout",
     "output_type": "stream",
     "text": [
      "탑승하실수 있습니다\n"
     ]
    }
   ],
   "source": [
    "age = int(input(\"당신의 나이가 어떻게 됩니까? :\"))\n",
    "height = int(input(\"당신의 키는 어떻게 됩니까? :\"))\n",
    "if age >= 10 and height >= 165:\n",
    "    print(\"탑승하실수 있습니다\")\n",
    "else:\n",
    "    print(\"탑승 하실수 없습니다\")\n"
   ]
  },
  {
   "cell_type": "code",
   "execution_count": 26,
   "metadata": {},
   "outputs": [
    {
     "name": "stdout",
     "output_type": "stream",
     "text": [
      "음수\n"
     ]
    }
   ],
   "source": [
    "# 양수, 음수, 0 판독기 \n",
    "숫자 = int(input(\"정수를 입력하시오 :\"))\n",
    "if 숫자>0: #양수인가??\n",
    "    print(\"양수\")\n",
    "elif 숫자 == 0:\n",
    "    print(\"0\")\n",
    "else:\n",
    "    print(\"음수\")"
   ]
  },
  {
   "cell_type": "code",
   "execution_count": 27,
   "metadata": {},
   "outputs": [],
   "source": [
    "아이디 = \"김찬혁\""
   ]
  },
  {
   "cell_type": "code",
   "execution_count": 30,
   "metadata": {},
   "outputs": [
    {
     "name": "stdout",
     "output_type": "stream",
     "text": [
      "아이디를 찾을수 없습니다.\n"
     ]
    }
   ],
   "source": [
    "입력 = str(input(\"아이디를 입력하시오 :\"))\n",
    "if 입력 == 아이디:\n",
    "    print(\"환영합니다.\")\n",
    "else:\n",
    "    print(\"아이디를 찾을수 없습니다.\")"
   ]
  },
  {
   "cell_type": "markdown",
   "metadata": {},
   "source": [
    "### 반복문"
   ]
  },
  {
   "cell_type": "code",
   "execution_count": 32,
   "metadata": {},
   "outputs": [
    {
     "name": "stdout",
     "output_type": "stream",
     "text": [
      "환영합니다\n",
      "환영합니다\n",
      "환영합니다\n",
      "환영합니다\n",
      "환영합니다\n"
     ]
    }
   ],
   "source": [
    "print(\"환영합니다\")\n",
    "print(\"환영합니다\")\n",
    "print(\"환영합니다\")\n",
    "print(\"환영합니다\")\n",
    "print(\"환영합니다\")"
   ]
  },
  {
   "cell_type": "code",
   "execution_count": 33,
   "metadata": {},
   "outputs": [
    {
     "name": "stdout",
     "output_type": "stream",
     "text": [
      "환영합니다.\n",
      "환영합니다.\n",
      "환영합니다.\n",
      "환영합니다.\n",
      "환영합니다.\n",
      "환영합니다.\n",
      "환영합니다.\n",
      "환영합니다.\n",
      "환영합니다.\n",
      "환영합니다.\n",
      "환영합니다.\n",
      "환영합니다.\n",
      "환영합니다.\n",
      "환영합니다.\n",
      "환영합니다.\n",
      "환영합니다.\n",
      "환영합니다.\n",
      "환영합니다.\n",
      "환영합니다.\n",
      "환영합니다.\n",
      "환영합니다.\n",
      "환영합니다.\n",
      "환영합니다.\n",
      "환영합니다.\n",
      "환영합니다.\n",
      "환영합니다.\n",
      "환영합니다.\n",
      "환영합니다.\n",
      "환영합니다.\n",
      "환영합니다.\n",
      "환영합니다.\n",
      "환영합니다.\n",
      "환영합니다.\n",
      "환영합니다.\n",
      "환영합니다.\n",
      "환영합니다.\n",
      "환영합니다.\n",
      "환영합니다.\n",
      "환영합니다.\n",
      "환영합니다.\n",
      "환영합니다.\n",
      "환영합니다.\n",
      "환영합니다.\n",
      "환영합니다.\n",
      "환영합니다.\n",
      "환영합니다.\n",
      "환영합니다.\n",
      "환영합니다.\n",
      "환영합니다.\n",
      "환영합니다.\n"
     ]
    }
   ],
   "source": [
    "for i in range(50):\n",
    "    print(\"환영합니다.\")"
   ]
  },
  {
   "cell_type": "code",
   "execution_count": 37,
   "metadata": {},
   "outputs": [
    {
     "name": "stdout",
     "output_type": "stream",
     "text": [
      "사랑한다. 내친구~  홍길동 야\n",
      "사랑한다. 내친구~  임꺽정 야\n",
      "사랑한다. 내친구~  전우치 야\n",
      "사랑한다. 내친구~  봉신방 야\n",
      "사랑한다. 내친구~  손오공 야\n"
     ]
    }
   ],
   "source": [
    "친구목록 = ['홍길동', '임꺽정', '전우치', '봉신방', '손오공']\n",
    "for i in 친구목록:\n",
    "    print(\"사랑한다. 내친구~ \", i, \"야\")"
   ]
  },
  {
   "cell_type": "code",
   "execution_count": 39,
   "metadata": {},
   "outputs": [
    {
     "name": "stdout",
     "output_type": "stream",
     "text": [
      "제가 좋아하는 과일 배 입니다\n",
      "제가 좋아하는 과일 복숭아 입니다\n",
      "제가 좋아하는 과일 파인애플 입니다\n"
     ]
    }
   ],
   "source": [
    "과일 = ['배', '복숭아', '파인애플']\n",
    "for x in 과일:\n",
    "    print(\"제가 좋아하는 과일\", x,'입니다')"
   ]
  },
  {
   "cell_type": "code",
   "execution_count": 41,
   "metadata": {},
   "outputs": [
    {
     "name": "stdout",
     "output_type": "stream",
     "text": [
      "9\n",
      "18\n",
      "27\n",
      "36\n",
      "45\n",
      "54\n",
      "63\n",
      "72\n",
      "81\n"
     ]
    }
   ],
   "source": [
    "for i in [1,2,3,4,5,6,7,8,9]:\n",
    "    print(9 * i)"
   ]
  },
  {
   "cell_type": "code",
   "execution_count": 44,
   "metadata": {},
   "outputs": [
    {
     "name": "stdout",
     "output_type": "stream",
     "text": [
      "9\n",
      "18\n",
      "27\n",
      "36\n",
      "45\n",
      "54\n",
      "63\n",
      "72\n",
      "81\n"
     ]
    }
   ],
   "source": [
    "for i in range(1,10):\n",
    "    print(9*i)"
   ]
  },
  {
   "cell_type": "code",
   "execution_count": 48,
   "metadata": {},
   "outputs": [
    {
     "name": "stdout",
     "output_type": "stream",
     "text": [
      "\n",
      "2\n",
      "4\n",
      "6\n",
      "8\n",
      "10\n",
      "12\n",
      "14\n",
      "16\n",
      "18\n",
      "\n",
      "3\n",
      "6\n",
      "9\n",
      "12\n",
      "15\n",
      "18\n",
      "21\n",
      "24\n",
      "27\n",
      "\n",
      "4\n",
      "8\n",
      "12\n",
      "16\n",
      "20\n",
      "24\n",
      "28\n",
      "32\n",
      "36\n",
      "\n",
      "5\n",
      "10\n",
      "15\n",
      "20\n",
      "25\n",
      "30\n",
      "35\n",
      "40\n",
      "45\n",
      "\n",
      "6\n",
      "12\n",
      "18\n",
      "24\n",
      "30\n",
      "36\n",
      "42\n",
      "48\n",
      "54\n",
      "\n",
      "7\n",
      "14\n",
      "21\n",
      "28\n",
      "35\n",
      "42\n",
      "49\n",
      "56\n",
      "63\n",
      "\n",
      "8\n",
      "16\n",
      "24\n",
      "32\n",
      "40\n",
      "48\n",
      "56\n",
      "64\n",
      "72\n",
      "\n",
      "9\n",
      "18\n",
      "27\n",
      "36\n",
      "45\n",
      "54\n",
      "63\n",
      "72\n",
      "81\n"
     ]
    }
   ],
   "source": [
    "for i in range(2,10): # 2단~9단\n",
    "    print(\"\") # 단마다 띄어쓰기\n",
    "    for j in range(1,10): # 1~9까지 곱한다\n",
    "        print(i * j)\n"
   ]
  },
  {
   "cell_type": "code",
   "execution_count": 50,
   "metadata": {},
   "outputs": [
    {
     "name": "stdout",
     "output_type": "stream",
     "text": [
      "1\n",
      "2\n",
      "6\n",
      "24\n",
      "120\n",
      "720\n",
      "5040\n",
      "40320\n",
      "362880\n",
      "3628800\n"
     ]
    }
   ],
   "source": [
    "# 팩토리얼 계산하기\n",
    "정수 = int(input(\"정수를 입력하세요:\"))\n",
    "팩토리얼 = 1\n",
    "for i in range(1, 정수+1):\n",
    "    팩토리얼 = 팩토리얼 * i\n",
    "    print(팩토리얼)"
   ]
  },
  {
   "cell_type": "code",
   "execution_count": null,
   "metadata": {},
   "outputs": [],
   "source": []
  }
 ],
 "metadata": {
  "kernelspec": {
   "display_name": "Python 3",
   "language": "python",
   "name": "python3"
  },
  "language_info": {
   "codemirror_mode": {
    "name": "ipython",
    "version": 3
   },
   "file_extension": ".py",
   "mimetype": "text/x-python",
   "name": "python",
   "nbconvert_exporter": "python",
   "pygments_lexer": "ipython3",
   "version": "3.6.4"
  }
 },
 "nbformat": 4,
 "nbformat_minor": 2
}
